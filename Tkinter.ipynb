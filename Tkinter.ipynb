{
 "cells": [
  {
   "cell_type": "code",
   "execution_count": 5,
   "id": "initial_id",
   "metadata": {
    "collapsed": true,
    "ExecuteTime": {
     "end_time": "2024-06-05T17:05:24.308662700Z",
     "start_time": "2024-06-05T17:05:24.215341300Z"
    }
   },
   "outputs": [],
   "source": [
    "import tkinter"
   ]
  },
  {
   "cell_type": "code",
   "execution_count": 5,
   "outputs": [],
   "source": [
    "main_win = tkinter.Tk()\n",
    "main_win.title(\"THI\")\n",
    "label = tkinter.Label(main_win, text = \"My first GUI\")\n",
    "label.pack()\n"
   ],
   "metadata": {
    "collapsed": false,
    "ExecuteTime": {
     "end_time": "2024-05-30T15:35:16.962426600Z",
     "start_time": "2024-05-30T15:35:16.959869500Z"
    }
   },
   "id": "7ed094c22bc2c8fc"
  },
  {
   "cell_type": "code",
   "execution_count": 6,
   "outputs": [],
   "source": [
    "button = tkinter.Button(main_win, text = \"OK\")\n",
    "button.pack()\n",
    "main_win.mainloop()"
   ],
   "metadata": {
    "collapsed": false,
    "ExecuteTime": {
     "end_time": "2024-05-30T15:35:29.601086300Z",
     "start_time": "2024-05-30T15:35:19.361622600Z"
    }
   },
   "id": "21f90fe5031832ec"
  },
  {
   "cell_type": "code",
   "execution_count": 10,
   "outputs": [
    {
     "ename": "ModuleNotFoundError",
     "evalue": "No module named 'matplotlib'",
     "output_type": "error",
     "traceback": [
      "\u001B[1;31m---------------------------------------------------------------------------\u001B[0m",
      "\u001B[1;31mModuleNotFoundError\u001B[0m                       Traceback (most recent call last)",
      "Cell \u001B[1;32mIn[10], line 1\u001B[0m\n\u001B[1;32m----> 1\u001B[0m \u001B[38;5;28;01mimport\u001B[39;00m \u001B[38;5;21;01mmatplotlib\u001B[39;00m\n",
      "\u001B[1;31mModuleNotFoundError\u001B[0m: No module named 'matplotlib'"
     ]
    }
   ],
   "source": [],
   "metadata": {
    "collapsed": false,
    "ExecuteTime": {
     "end_time": "2024-06-05T17:12:51.845652800Z",
     "start_time": "2024-06-05T17:12:51.801116800Z"
    }
   },
   "id": "e0f005fd8011c6c0"
  },
  {
   "cell_type": "code",
   "execution_count": 6,
   "outputs": [
    {
     "ename": "ModuleNotFoundError",
     "evalue": "No module named 'matplotlib'",
     "output_type": "error",
     "traceback": [
      "\u001B[1;31m---------------------------------------------------------------------------\u001B[0m",
      "\u001B[1;31mModuleNotFoundError\u001B[0m                       Traceback (most recent call last)",
      "Cell \u001B[1;32mIn[6], line 1\u001B[0m\n\u001B[1;32m----> 1\u001B[0m \u001B[38;5;28;01mimport\u001B[39;00m \u001B[38;5;21;01mmatplotlib\u001B[39;00m\u001B[38;5;21;01m.\u001B[39;00m\u001B[38;5;21;01mpyplot\u001B[39;00m \u001B[38;5;28;01mas\u001B[39;00m \u001B[38;5;21;01mplt\u001B[39;00m\n\u001B[0;32m      3\u001B[0m \u001B[38;5;66;03m# Tatsächliche Werte und Vorhersagen\u001B[39;00m\n\u001B[0;32m      4\u001B[0m y \u001B[38;5;241m=\u001B[39m [\u001B[38;5;241m3\u001B[39m, \u001B[38;5;241m5\u001B[39m, \u001B[38;5;241m2\u001B[39m, \u001B[38;5;241m7\u001B[39m]\n",
      "\u001B[1;31mModuleNotFoundError\u001B[0m: No module named 'matplotlib'"
     ]
    }
   ],
   "source": [
    "import matplotlib.pyplot as plt\n",
    "\n",
    "# Tatsächliche Werte und Vorhersagen\n",
    "y = [3, 5, 2, 7]\n",
    "y_pred = [2, 5, 4, 6]\n",
    "\n",
    "# Indizes der Datenpunkte\n",
    "indices = range(len(y))\n",
    "\n",
    "# Fehlerquadrate\n",
    "errors = [(y_i - y_pred_i)**2 for y_i, y_pred_i in zip(y, y_pred)]\n",
    "\n",
    "# Plot\n",
    "plt.figure(figsize=(10, 5))\n",
    "plt.scatter(indices, y, color='blue', label='Tatsächliche Werte')\n",
    "plt.scatter(indices, y_pred, color='red', label='Vorhergesagte Werte')\n",
    "plt.vlines(indices, y, y_pred, color='gray', linestyles='dashed')\n",
    "for i in indices:\n",
    "    plt.text(i, (y[i] + y_pred[i]) / 2, f'{errors[i]}', ha='right')\n",
    "\n",
    "plt.xlabel('Datenpunkt')\n",
    "plt.ylabel('Wert')\n",
    "plt.title('Tatsächliche vs. vorhergesagte Werte und Fehlerquadrate')\n",
    "plt.legend()\n",
    "plt.show()\n"
   ],
   "metadata": {
    "collapsed": false,
    "ExecuteTime": {
     "end_time": "2024-06-05T17:05:27.831356600Z",
     "start_time": "2024-06-05T17:05:27.774600400Z"
    }
   },
   "id": "931bd99207363977"
  },
  {
   "cell_type": "code",
   "execution_count": null,
   "outputs": [],
   "source": [],
   "metadata": {
    "collapsed": false
   },
   "id": "7700010fc8370a3a"
  }
 ],
 "metadata": {
  "kernelspec": {
   "display_name": "Python 3",
   "language": "python",
   "name": "python3"
  },
  "language_info": {
   "codemirror_mode": {
    "name": "ipython",
    "version": 2
   },
   "file_extension": ".py",
   "mimetype": "text/x-python",
   "name": "python",
   "nbconvert_exporter": "python",
   "pygments_lexer": "ipython2",
   "version": "2.7.6"
  }
 },
 "nbformat": 4,
 "nbformat_minor": 5
}
